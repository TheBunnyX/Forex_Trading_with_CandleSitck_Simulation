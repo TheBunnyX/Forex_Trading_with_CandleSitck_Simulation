{
 "cells": [
  {
   "cell_type": "code",
   "execution_count": null,
   "id": "da7a285d",
   "metadata": {},
   "outputs": [],
   "source": [
    "import MetaTrader5 as mt5\n",
    "import pandas as pd\n",
    "from datetime import datetime\n",
    "from dotenv import load_dotenv\n",
    "import os\n",
    "\n",
    "# Load environment variables from .env file\n",
    "load_dotenv()\n",
    "\n",
    "# Retrieve credentials from environment variables\n",
    "account = int(os.getenv(\"MT5_ACCOUNT\"))\n",
    "password = os.getenv(\"MT5_PASSWORD\")\n",
    "server = os.getenv(\"MT5_SERVER\")\n",
    "\n",
    "print(f\"Account: {account}, Password: {password}, Server: {server}\")\n",
    "# Initialize MetaTrader 5\n",
    "if not mt5.initialize():\n",
    "    print(\"Failed to initialize MetaTrader5\")\n",
    "    quit()\n",
    "\n",
    "# Login to the trading account\n",
    "if not mt5.login(account, password=password, server=server):\n",
    "    print(f\"Failed to login to account {account}, error code: {mt5.last_error()}\")\n",
    "    mt5.shutdown()\n",
    "    quit()\n",
    "\n",
    "# Define parameters for historical data\n",
    "symbol = \"AUDUSD.iux\"  # Replace with desired symbol\n",
    "timeframe = mt5.TIMEFRAME_M5# Hourly timeframe\n",
    "start_date = datetime(2025, 2, 1)  # Start date\n",
    "end_date = datetime(2025, 3, 15)  # End date\n",
    "\n",
    "# Check if symbol is available\n",
    "if not mt5.symbol_select(symbol, True):\n",
    "    print(f\"Symbol {symbol} not found or unavailable, error code: {mt5.last_error()}\")\n",
    "    mt5.shutdown()\n",
    "    quit()\n",
    "\n",
    "# Retrieve historical OHLCV data\n",
    "rates = mt5.copy_rates_range(symbol, timeframe, start_date, end_date)\n",
    "\n",
    "if rates is not None and len(rates) > 0:\n",
    "    # Convert to pandas DataFrame\n",
    "    df = pd.DataFrame(rates)\n",
    "    # Convert time to datetime\n",
    "    df['time'] = pd.to_datetime(df['time'], unit='s')\n",
    "    # Rename columns for clarity\n",
    "    df = df[['time', 'open', 'high', 'low', 'close', 'tick_volume']]\n",
    "    df.columns = ['Date', 'Open', 'High', 'Low', 'Close', 'Volume']\n",
    "    # Set Date as index\n",
    "    df.set_index('Date', inplace=True)\n",
    "    # Round OHLC columns to 5 decimal places\n",
    "    df[['Open', 'High', 'Low', 'Close']] = df[['Open', 'High', 'Low', 'Close']].round(5)\n",
    "    print(\"\\nHistorical OHLCV Data:\")\n",
    "    print(df.tail())  # Display last few rows for brevity\n",
    "    \n",
    "    # Save the DataFrame to a CSV file\n",
    "    filename = f\"{symbol}_M5_{start_date.strftime('%Y%m%d')}_{end_date.strftime('%Y%m%d')}.csv\"\n",
    "    df.to_csv(filename)\n",
    "    print(f\"Data saved to {filename}\")\n",
    "else:\n",
    "    print(f\"Failed to retrieve historical data for {symbol}, error code: {mt5.last_error()}\")\n",
    "\n",
    "# Shutdown MetaTrader 5\n",
    "mt5.shutdown()"
   ]
  },
  {
   "cell_type": "code",
   "execution_count": null,
   "id": "77995b30",
   "metadata": {},
   "outputs": [],
   "source": [
    "df"
   ]
  },
  {
   "cell_type": "code",
   "execution_count": null,
   "id": "e91ac6ce",
   "metadata": {},
   "outputs": [],
   "source": [
    "df.columns"
   ]
  }
 ],
 "metadata": {
  "language_info": {
   "name": "python"
  }
 },
 "nbformat": 4,
 "nbformat_minor": 5
}
